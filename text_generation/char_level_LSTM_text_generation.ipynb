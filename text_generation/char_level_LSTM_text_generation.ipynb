{
 "cells": [
  {
   "cell_type": "markdown",
   "metadata": {
    "collapsed": true
   },
   "source": [
    "# Load data"
   ]
  },
  {
   "cell_type": "code",
   "execution_count": 1,
   "metadata": {},
   "outputs": [
    {
     "name": "stderr",
     "output_type": "stream",
     "text": [
      "Using TensorFlow backend.\n"
     ]
    },
    {
     "name": "stdout",
     "output_type": "stream",
     "text": [
      "Corpus length: 600901\n"
     ]
    }
   ],
   "source": [
    "import keras\n",
    "import numpy as np\n",
    "path = keras.utils.get_file('nietzsche.txt', origin='https://s3.amazonaws.com/text-datasets/nietzsche.txt')\n",
    "text = open(path).read().lower()\n",
    "print('Corpus length:', len(text))"
   ]
  },
  {
   "cell_type": "markdown",
   "metadata": {},
   "source": [
    "In order to control the amount of stochasticity in the sampling process, we’ll introduce a parameter called the softmax temperature that characterizes the entropy of the\n",
    "probability distribution used for sampling: it characterizes how surprising or predictable the choice of the next character will be. Given a temperature value, a new probability distribution is computed from the original one (the softmax output of the\n",
    "model) by reweighting it in the following way"
   ]
  },
  {
   "cell_type": "markdown",
   "metadata": {},
   "source": [
    "# Reweighting a probability distribution to a different temperature\n",
    "Bigger the temperature value more random the the distribution sampling is "
   ]
  },
  {
   "cell_type": "code",
   "execution_count": 2,
   "metadata": {},
   "outputs": [],
   "source": [
    "import numpy as np\n",
    "\n",
    "def reweight_distribution(original_distribution, temperature=0.5):\n",
    "    distribution = np.log(original_distribution) / temperature\n",
    "    distribution = np.exp(distribution)\n",
    "    return distribution / np.sum(distribution) # divide by sum to renormalize"
   ]
  },
  {
   "cell_type": "markdown",
   "metadata": {},
   "source": [
    "# Vectorize the sequences of characters\n",
    "extract partially overlapping sequences of length maxlen, one-hot encode\n",
    "them, and pack them in a 3D Numpy array x of shape (sequences, maxlen,\n",
    "unique_characters). Simultaneously, you’ll prepare an array y containing the corresponding targets: the one-hot-encoded characters that come after each extracted\n",
    "sequence."
   ]
  },
  {
   "cell_type": "code",
   "execution_count": 3,
   "metadata": {},
   "outputs": [
    {
     "name": "stdout",
     "output_type": "stream",
     "text": [
      "number of sequences:  200281\n"
     ]
    }
   ],
   "source": [
    "maxlen = 60         # length of sequence\n",
    "step = 3            # new sequence in every 3 character\n",
    "\n",
    "sentences = []      # hold the sentences\n",
    "next_chars = []     # holds the next chars\n",
    "\n",
    "for i in range(0, len(text) - maxlen, step):\n",
    "    sentences.append(text[i: i+maxlen])\n",
    "    next_chars.append(text[i+maxlen])\n",
    "    \n",
    "print('number of sequences: ', len(sentences))"
   ]
  },
  {
   "cell_type": "code",
   "execution_count": 4,
   "metadata": {},
   "outputs": [
    {
     "name": "stdout",
     "output_type": "stream",
     "text": [
      "number of unique chars  59\n"
     ]
    }
   ],
   "source": [
    "chars = sorted(list(set(text)))\n",
    "print('number of unique chars ', len(chars))"
   ]
  },
  {
   "cell_type": "code",
   "execution_count": 5,
   "metadata": {},
   "outputs": [],
   "source": [
    "chars_indices = dict((char, chars.index(char)) for char in chars)"
   ]
  },
  {
   "cell_type": "code",
   "execution_count": 6,
   "metadata": {},
   "outputs": [],
   "source": [
    "x = np.zeros((len(sentences), maxlen, len(chars)), dtype=np.bool)\n",
    "y = np.zeros((len(sentences), len(chars)), dtype=np.bool)\n",
    "\n",
    "for i, sentence in enumerate(sentences):\n",
    "    for t, char in enumerate(sentence):\n",
    "        x[i, t, chars_indices[char]] = 1\n",
    "    y[i, chars_indices[next_chars[i]]] = 1"
   ]
  },
  {
   "cell_type": "code",
   "execution_count": 7,
   "metadata": {},
   "outputs": [
    {
     "name": "stdout",
     "output_type": "stream",
     "text": [
      "(200281, 60, 59)\n",
      "(200281, 59)\n"
     ]
    }
   ],
   "source": [
    "print(x.shape)\n",
    "print(y.shape)"
   ]
  },
  {
   "cell_type": "markdown",
   "metadata": {},
   "source": [
    "# Building the model"
   ]
  },
  {
   "cell_type": "code",
   "execution_count": 8,
   "metadata": {},
   "outputs": [],
   "source": [
    "from keras import layers\n",
    "\n",
    "model = keras.models.Sequential()\n",
    "model.add(layers.LSTM(128, input_shape=(maxlen, len(chars))))\n",
    "model.add(layers.Dense(len(chars), activation='softmax'))"
   ]
  },
  {
   "cell_type": "code",
   "execution_count": 9,
   "metadata": {},
   "outputs": [],
   "source": [
    "optimizer = keras.optimizers.RMSprop(lr=0.01)\n",
    "model.compile(loss='categorical_crossentropy', optimizer=optimizer)"
   ]
  },
  {
   "cell_type": "markdown",
   "metadata": {},
   "source": [
    "# Training the model\n",
    "Given a trained model and a seed text snippet, you can generate new text by doing the\n",
    "following repeatedly:\n",
    "1. Draw from the model a probability distribution for the next character, given the\n",
    "generated text available so far.\n",
    "2. Reweight the distribution to a certain temperature.\n",
    "3. Sample the next character at random according to the reweighted distribution.\n",
    "4. Add the new character at the end of the available text.\n",
    "This is the code you use to reweight the original probability distribution coming out\n",
    "of the model and draw a character index from it (the sampling function)"
   ]
  },
  {
   "cell_type": "markdown",
   "metadata": {},
   "source": [
    "## Function to sample the next char given the model's parameter"
   ]
  },
  {
   "cell_type": "code",
   "execution_count": 10,
   "metadata": {},
   "outputs": [],
   "source": [
    "def sample(preds, temperature=1.0):\n",
    "    preds = np.asarray(preds).astype('float64')\n",
    "    preds = np.log(preds) / temperature\n",
    "    exp_preds = np.exp(preds)\n",
    "    preds = exp_preds / np.sum(exp_preds)\n",
    "    \n",
    "    probs = np.random.multinomial(1, preds, 1)    # tatal = 1, probs = prob dist, 1 output\n",
    "    return np.argmax(probs)                       # index of char (0 - 58)"
   ]
  },
  {
   "cell_type": "markdown",
   "metadata": {},
   "source": [
    "# Text generation loop"
   ]
  },
  {
   "cell_type": "code",
   "execution_count": null,
   "metadata": {},
   "outputs": [
    {
     "name": "stdout",
     "output_type": "stream",
     "text": [
      "\n",
      "epoch 1\n",
      "Epoch 1/1\n",
      "200281/200281 [==============================] - 88s - loss: 1.8562    \n",
      "--- Generating with seed: \"vidual. even exceptional men, who can think beyond their own\"\n",
      "\n",
      "\n",
      "------ temperature: 0.2\n",
      "vidual. even exceptional men, who can think beyond their own the become of the because and the spirity of the struct the conself of the become of the expections of the experience and stret of the every the experience of the conterments of the stret of the who has the stret of the conself of the conterment of the conterman the self-conscience of the stret of the conself the become of the semple himself of the every the spiritual conself that the self-consci\n",
      "\n",
      "------ temperature: 0.5\n",
      "self of the every the spiritual conself that the self-conscience in the greater the the conterds, the conterments of even sceptions in the very because as in the man one sees this farter strance and can inscire for a feels in feel became them the master the been beer become and become excestions to the most gonatices that see constation of the philosophy of\n",
      "the stralce and the fineness of the the recearments of one with a cass specie of the spirit of consc\n",
      "\n",
      "------ temperature: 1.0\n",
      "recearments of one with a cass specie of the spirit of consciousrethit,, boom aiminalince from he fad hiver is. as over who explea berancy of\n",
      "the imyar, incceblitions conssions fact,\" must love, botates all enconse with fepors of the as means of slay the fir rive of presely marping ancelty, leve would expectem. the lest veticious as clacte atts\" a mifferely as wlonge rulencule of the will cores.\n",
      "\n",
      "1nat ane convared, ford which omiviledy to excleents, his ki\n",
      "\n",
      "------ temperature: 1.2\n",
      "1nat ane convared, ford which omiviledy to excleents, his kindied\n",
      "invasone. the -cfeciousity oted gow sitsceegiculy; moritigt and poorsural dedide goonaaked-wort offence of spiling orless\n",
      "prous vssuls\n",
      "of sures all discurrengry finely him; caul levelve enson of life!\n",
      "\n",
      "13valt-\n",
      "delice ort meants\n",
      "\"bow platmently and rance, of recldce, thot eyes\n",
      "spure of beblelve pur=aboricy beople of obce form\n",
      "agtions, also inself-goodioned, raisen, sole exaws in-un from beitu\n",
      "epoch 2\n",
      "Epoch 1/1\n",
      "200281/200281 [==============================] - 89s - loss: 1.6281    \n",
      "--- Generating with seed: \"ions and innuendoes with a welcome smile. the philosopher ha\"\n",
      "\n",
      "\n",
      "------ temperature: 0.2\n",
      "ions and innuendoes with a welcome smile. the philosopher has the spirit of the seess of the seess of the same to the seeks of the spiritual and also the spirit and the still and the sense of the seesition of the seeks of the seeks of the extention of the seeks of the same man and deept of the concerned to be the spirit and perhaps all the seest the subjecting and the strength on the most the soul and man and the spiritual all the problem and surperded and\n",
      "\n",
      "------ temperature: 0.5\n",
      " and man and the spiritual all the problem and surperded and has be the spirit, precesturion of the world is the our injuring still in a perhaps in the soul of the more with the charm of the refient and more perhaps all the cause and more attained to the instrpence, but a surpless of the perhaps the man in the singer, for the good in\n",
      "all the eare would the proment does presenter to also the past of the world to the case and\n",
      "perhaps more not heart of the sp\n",
      "\n",
      "------ temperature: 1.0\n",
      "f the world to the case and\n",
      "perhaps more not heart of the spility,, comes life in my, and\n",
      "accient to suy is the latted) to a morrecoge, broughted or sulfact are not cases order of menmus of he have his spiritary , and that lifely one for religion of he regulo us a regarmance, peoped treatary of the\n",
      "free the saidest and\n",
      "farts, and metuously manking prouming\n",
      "itself causavionge, aller anyone, but an inviousive christians, yearary and the undidibe to whese occ\n",
      "\n",
      "------ temperature: 1.2\n",
      "inviousive christians, yearary and the undidibe to whese occate classiblineshes aogally itself\n",
      "the soul who hade id tde!--it\n",
      "old troward to precaurtual will  heain dang--it is nercauals teatoramentyulesh, the generaty,\n",
      "could spirrt--in\n",
      "depitially bad one an idea is their good itself mensto reeavy\n",
      "ome \"rlature and amistr; as ahy ameach is the\n",
      "opifte humous, be are trued unyer be lifes, order to be pryperment, soully are gevery to one comprese for\n",
      "do alls,\n",
      ":\n",
      "epoch 3\n",
      "Epoch 1/1\n",
      "200281/200281 [==============================] - 90s - loss: 1.5537    \n",
      "--- Generating with seed: \" as is described by poets,\n",
      "must, when compared with his own \"\n",
      "\n",
      "\n",
      "------ temperature: 0.2\n",
      " as is described by poets,\n",
      "must, when compared with his own and the mast of the personality, and the presention of the present to be a still a still the stand the staterous and strangerous the world the presention of the subjection of the present to the world the present the stand and the present to the stand the philosopher the subjection of the philosophers in the present to the world the stupidity and the stand the preciarious and the spirit the concept\n",
      "\n",
      "------ temperature: 0.5\n",
      "ity and the stand the preciarious and the spirit the concepted to the reperation of faithing the will to bethere of the scirits and the will stringly as a read always and as the are the casess of conception, for the man from a science of still to the strong the works of the philosophers of the proper and the coal and everything to learness and the presention the world the arting the were in the presently the will some the prevenerality of the before the be\n",
      "\n",
      "------ temperature: 1.0\n",
      "esently the will some the prevenerality of the before the before the order rewlenges the indection-geading ffrects innoturality by but time concencials and corntover gow, \"revined all\n",
      "individual wertoned becondings, be it is more mostly, speltust he pecule, a still aucosion the volyed as\n",
      "dived, and,\n",
      "\n",
      "a namelyens.--the most \"viewa; for which not emplened to be works, theherstord, on the \"dool, as theer abeverense there is batually, the first of other as the\n",
      "\n",
      "------ temperature: 1.2\n",
      "heer abeverense there is batually, the first of other as the mortal;\n",
      "\n",
      "the werehhelf--the; in the\n",
      "smay inly veralcely things and ryigndine wartist o; onles who wive ones not weyges to liar. -on intererelment--the sciaturous\n",
      "wickesteres which one grtupoesubining marite is form of as\n",
      "oughness,\n",
      "brought\n",
      "pulve, on\n",
      "as its forgorefouc shhhimanness understates for catses dot-nogreoddined, myso-lipted if\n",
      "their\n",
      "at man sun? of europe,\n",
      "se, it declonem vio politipe to w\n",
      "epoch 4\n",
      "Epoch 1/1\n",
      "200281/200281 [==============================] - 90s - loss: 1.5154    \n",
      "--- Generating with seed: \", such as is also frequently found in the ancient world (alt\"\n",
      "\n",
      "\n",
      "------ temperature: 0.2\n",
      ", such as is also frequently found in the ancient world (although the the world to a contemption of the subject of a man and the present to the contemption, and as the the precisely and a consequences to the contemptions of the subjucal the subject of the subject the contemption of the sunds the contemption of the subjution of the subject of the subject of the subject the subjucant as the best and the world and the subject of the present of the subject of \n",
      "\n",
      "------ temperature: 0.5\n",
      " the world and the subject of the present of the subject of a perture of the noble has from a present of the inclitate like that we contemple, to of the sure and and cannot of the philosophy of the strong which the stand of the still contempt of the free of the world things a contemption of the succession of the world and man that the prestrust the before the servance to self--he is an interpretations and the succiones of still the more instincts the prepa\n",
      "\n",
      "------ temperature: 1.0\n",
      "ions and the succiones of still the more instincts the prepare of man, nected--or pose learnend, you knowledge, free,om, of the prusch as thus xqualing to penery her domanners and lampodity to faith right. to le. from his precises to ansmuth: there\n",
      "is admanne conscience, which that know truch is togate, the me every teevers new\n",
      "fash and theild everything, it so pently sectien.--the\n",
      "everything regald es, remain the spirit, anvental with it sutpality: shon, \n",
      "\n",
      "------ temperature: 1.2\n"
     ]
    },
    {
     "name": "stdout",
     "output_type": "stream",
     "text": [
      "ld es, remain the spirit, anvental with it sutpality: shon, not--but degree, which make sympute withds of they honderstungnion those moot human numbers and regalded nible.\n",
      "pose should calsonce man soil,\n",
      "love ruthical time, rate,\n",
      "as stics must the health everstly tohing cleasures: womaken finel\"? of creat craves, whime this own, missiviousnectis\n",
      "inavalused\n",
      "is fasuity, whithists instint,s which master is hy man tasted to grigmitous valued severively, and eve\n",
      "epoch 5\n",
      "Epoch 1/1\n",
      "200281/200281 [==============================] - 89s - loss: 1.4883    \n",
      "--- Generating with seed: \"ious of every thinker\n",
      "who \"wishes to prove something\"--that \"\n",
      "\n",
      "\n",
      "------ temperature: 0.2\n",
      "ious of every thinker\n",
      "who \"wishes to prove something\"--that the strong the sense of the sense of the spirit the sense of the spirit and discoveren and the present the fect the spirit the sense of the strong the strength of the sense the spirit the spirit the spirit the spirit and the spirit and such a prefender the sense of the strong the sense of the strength and the spirit the sense of the such and the spirit the sunguirity of the spirit and sense of the\n",
      "\n",
      "------ temperature: 0.5\n",
      "and the spirit the sunguirity of the spirit and sense of the sense, and the form of the sees that\n",
      "the civility of the free of the persons of the the straigent the precisely to the words of the compare of the work of the partic still sensition of the under which the same the strong and the fact the comparence of refiestions and statened and perhaps one state, that is all the contemption and consideration of the sense of commands and as the whole the rest an\n",
      "\n",
      "------ temperature: 1.0\n",
      "ration of the sense of commands and as the whole the rest and experience itself precoponion: \"i knew backing it almost trittent the liate for under the prothesty cive deprivial\n",
      "and broughted takning illeagn to creach and devenon continuance, but \"akes temical to barble of ludethed \"cledive of man\n",
      "in the veusonality and sympathy. than is the thing meagest upchtherailst, even who centuryness with invense,\n",
      "is for of the ifrect attained, which comprice\n",
      "bad is \n",
      "\n",
      "------ temperature: 1.2\n",
      "vense,\n",
      "is for of the ifrect attained, which comprice\n",
      "bad is all such it the mofals: banedy, whop-most germans--that no close philosoph of\n",
      "who, we master enowr, we tradeudion it youte\n",
      "to egiailly cive caplen and\n",
      "for atte, the godhing butly continues.\n",
      "\n",
      "\n",
      "one and th"
     ]
    },
    {
     "name": "stderr",
     "output_type": "stream",
     "text": [
      "C:\\Program Files\\Anaconda3\\lib\\site-packages\\ipykernel\\__main__.py:3: RuntimeWarning: divide by zero encountered in log\n",
      "  app.launch_new_instance()\n"
     ]
    },
    {
     "name": "stdout",
     "output_type": "stream",
     "text": [
      "e individual, birdly pare\n",
      "subslinglity which par7! of human\n",
      "evist in the\n",
      "tendon the cartoration highly kemprene,ter? and upon psefilifies\n",
      "himself, just mustecly the namens of history compared yer th\n",
      "epoch 6\n",
      "Epoch 1/1\n",
      "200281/200281 [==============================] - 88s - loss: 1.4693    \n",
      "--- Generating with seed: \"r as\n",
      "such, he would one day have to say to himself: \"the dev\"\n",
      "\n",
      "\n",
      "------ temperature: 0.2\n",
      "r as\n",
      "such, he would one day have to say to himself: \"the developed and in the best the self-desires the same to the strength of the spirit of the strength to the sense of the other one must in the stand of the strength is a superioration of the present of the same to the most and superiority and something that the stand of the strength of the subject of the superiority of the most and the still a more to the most self-conscioural agreeable to self-somethin\n",
      "\n",
      "------ temperature: 0.5\n",
      "more to the most self-conscioural agreeable to self-something carry world, the superioration and consideration of the whole to every thinkers and the highest hand to everything and insidiced and self-consideration in the same one must a high and sense of the pains of the problem of the spring telent the way the standing to an experience of the commentation to one will an extranity and such a self-concerned that a life and the oldels and religion of the mor\n",
      "\n",
      "------ temperature: 1.0\n",
      "concerned that a life and the oldels and religion of the more adviged appearance.\" even are truth are not man in valuality seemer still means of\n",
      "our my un\"necelking he faief menjosmthmer and deterian equally omdece time watter ediging (for astemptative ambid, that that some saint a\n",
      "wagn our it selfliwness of the day to be german different sense we mithine leach, that self-looks ond may not diem orwer\n",
      "higher, of all sought to instance is\n",
      "accication comes el\n",
      "\n",
      "------ temperature: 1.2\n",
      "wer\n",
      "higher, of all sought to instance is\n",
      "accication comes elimine\n",
      "geod\").=\n",
      "\n",
      "\n",
      "1in our deberation.\n",
      "-beration--there wish thisself. in humle, for callow\", and one,\n",
      "posed. i mear, to\n",
      "immer of ausolate unially--as worth, feel yous only to\n",
      "himalted vulen\"hen-yn reulumes who has eloved, on it . \"fullened.\n",
      "not values presente.--one, and\n",
      "dangerihary, one\n",
      "mustom to disdessfect one will itvolute, horoving of thus, were enviraite, commanded.\n",
      "\n",
      "\n",
      "1in other, he must beari\n",
      "epoch 7\n",
      "Epoch 1/1\n",
      "200281/200281 [==============================] - 89s - loss: 1.4557    \n",
      "--- Generating with seed: \"ery sign of\n",
      "vigorous health, that overplus which confers upo\"\n",
      "\n",
      "\n",
      "------ temperature: 0.2\n",
      "ery sign of\n",
      "vigorous health, that overplus which confers upon the strength and conscience, the work of the same to the strength and almost and the man is all the same truth is not the work the strength of the most the man is the conduct of the strength of the same to the famsination of the same truth is a bad and the same the personal discovered and the same to the same time and the conduct of the same to the same to the same to extraving and strength of t\n",
      "\n",
      "------ temperature: 0.5\n",
      " same to the same to the same to extraving and strength of the spiritually preserved, it could be lose of the history of the strength has perhaps to an\n",
      "again and way the say call of the morality of the last with the strength of a \"idea of his called and called when the many the art of the the case is present of the some the same to present the personal life to the faith and belief in the life the man is truth, a sense of present the strength in the bad bea\n",
      "\n",
      "------ temperature: 1.0\n",
      "man is truth, a sense of present the strength in the bad beaker\n",
      "alsor exceinness and onial dong-original crise a fashior of man; as a more have been nature indeed on there are moment wise the lifeed there are understandecry at it is a, precisely the recutme, age id almost\n",
      "help. the understandest aroped e, that when you innour the understanding viour and own belongh\n",
      "everyinness, blisk,\n",
      "the habits.--cirst puttain which, and though weaulyd master to thinks hi\n",
      "\n",
      "------ temperature: 1.2\n",
      "-cirst puttain which, and though weaulyd master to thinks hima--unstlarm of runuant mansists of wancethy oriviatious sensualism, musters\" anded\n",
      "\"vevised nor them--languaging he fash then?\n",
      "dan this as, who says, ses accurst\n",
      "trueredness--and is liberty sensuakly,\n",
      "metaphyse bether tigne of chalices: how foundre. it ey the \"standinonine for his rears is--enough in well, all is almost handed told arbisiou to, than mistak and knowcreansred. and own behave freenc\n",
      "epoch 8\n",
      "Epoch 1/1\n",
      "200281/200281 [==============================] - 90s - loss: 1.4471    \n",
      "--- Generating with seed: \"f the sleeper. the conditions precedent, as thus\n",
      "conjectured\"\n",
      "\n",
      "\n",
      "------ temperature: 0.2\n",
      "f the sleeper. the conditions precedent, as thus\n",
      "conjectured of the possible of the present to the stands of the stand of the present to the present to have the present to the philosophy of the soul of the stand of the philosophers of the philosophers of the stand of the present to the desire and the perhaps the contemption of the deside of the fact the stand to be in the present to the standarilities, and the perhaps the standary and so the subtle spirit \n",
      "\n",
      "------ temperature: 0.5\n",
      "ties, and the perhaps the standary and so the subtle spirit of the plaity and heart and developed that he have bonish and man for the way the freedom of the certain something and call the philosophers of the seass of their nature and supernaticn that is a perhaps a contemption of these than the philosophers what is he may indifferent from the ends and dangerous in the most station becomes the facts of the stronger of the philosophy of the stoper--the prese\n",
      "\n",
      "------ temperature: 1.0\n",
      "s of the stronger of the philosophy of the stoper--the present rearly must as first at long to he friends, and a pairity of the little grouppos,\n",
      "the infliet by religion for their eleques which to believe from preval to should not had\n",
      "enough your be self, fasomeany-do venounctide of the station on the chilst believe in old manials from oppirily of the developecor--this contravation\n",
      "of religions may be misprombedants.\n",
      "the entowed god deferbarralty with art, \n",
      "\n",
      "------ temperature: 1.2\n",
      " be misprombedants.\n",
      "the entowed god deferbarralty with art, almost to theyern specially \"similaution\n",
      "of all\n",
      "the crekely fristingm.lodd-efy were desolems, outh\n",
      "upon a stall, by far heravests, degnirhds\n",
      "clames. to the loved of been lither. faith cam of human bpas a conclusion soulsal makenchaze or peared\n",
      "really whose a. aln-do obliged deepvenatism.\n",
      "\n",
      "83. --much man manged has disper\n",
      "that before amone consuotations,\n",
      "senshy, as a musilamens\" in fears his lead h\n",
      "epoch 9\n",
      "Epoch 1/1\n",
      "174976/200281 [=========================>....] - ETA: 11s - loss: 1.4314"
     ]
    }
   ],
   "source": [
    "import random\n",
    "import sys\n",
    "\n",
    "for epoch in range(1, 60):\n",
    "    print('\\nepoch', epoch)\n",
    "    model.fit(x, y, batch_size=128, epochs=1)\n",
    "    start_index = random.randint(0, len(text) - maxlen - 1)\n",
    "    generated_text = text[start_index: start_index + maxlen]\n",
    "    print('--- Generating with seed: \"' + generated_text + '\"')\n",
    "\n",
    "    for temperature in [0.2, 0.5, 1.0, 1.2]:\n",
    "        print('\\n\\n------ temperature:', temperature)\n",
    "        sys.stdout.write(generated_text)\n",
    "        \n",
    "        for i in range(400):\n",
    "            sampled = np.zeros((1, maxlen, len(chars)))\n",
    "            for t, char in enumerate(generated_text):\n",
    "                sampled[0, t, chars_indices[char]] = 1.\n",
    "                \n",
    "            preds = model.predict(sampled, verbose=0)[0]\n",
    "            next_index = sample(preds, temperature)\n",
    "            next_char = chars[next_index]\n",
    "            \n",
    "            generated_text += next_char\n",
    "            generated_text = generated_text[1:]\n",
    "            \n",
    "            sys.stdout.write(next_char)"
   ]
  },
  {
   "cell_type": "code",
   "execution_count": null,
   "metadata": {},
   "outputs": [],
   "source": []
  }
 ],
 "metadata": {
  "kernelspec": {
   "display_name": "Python [conda root]",
   "language": "python",
   "name": "conda-root-py"
  },
  "language_info": {
   "codemirror_mode": {
    "name": "ipython",
    "version": 3
   },
   "file_extension": ".py",
   "mimetype": "text/x-python",
   "name": "python",
   "nbconvert_exporter": "python",
   "pygments_lexer": "ipython3",
   "version": "3.5.4"
  }
 },
 "nbformat": 4,
 "nbformat_minor": 2
}
